{
  "nbformat": 4,
  "nbformat_minor": 0,
  "metadata": {
    "colab": {
      "provenance": []
    },
    "kernelspec": {
      "name": "python3",
      "display_name": "Python 3"
    },
    "language_info": {
      "name": "python"
    }
  },
  "cells": [
    {
      "cell_type": "code",
      "execution_count": null,
      "metadata": {
        "id": "NX0EOQ8uv1mB"
      },
      "outputs": [],
      "source": []
    },
    {
      "cell_type": "markdown",
      "source": [
        "1. What is Python and why is it popular?\n",
        "\n",
        "Ans : Python is a Programming Language for creating instructions for computer to follow. This has a set of rules and symbols which defines the process of writing computer Programme.\n",
        "\n",
        "Python is popular for the following reasons:\n",
        "* It is easy to understand and write, making it a popular choice among developers and progrmmers.\n",
        "*It is compatible with various programming paradigms, such as procedural, object oriented and functional programming.\n",
        "*Versatality - Python can be used in many areas like web development, Machine Learning, Backend, Front End, Data Analysis, Image Processing etc\n",
        "*Easy readability\n",
        "*Standard Library - Python has a lot of inbuild functions in its library, which is well structured and well optimised.\n",
        "*Python has a large and active community of developers, an extensive standard library and third party packages for various domains.\n",
        "\n",
        "\n",
        "2. What is an interpreter in Python?\n",
        "\n",
        "Ans : A python interpreter is a fundamental tool for developing Python code, it is a program that reads and executes Python code line by line. It translates the code into machine readable byte code and then executes it.\n",
        "\n",
        "\n",
        "3. What are predefined Keywords in Python ?\n",
        "\n",
        "Ans. Python Keywords are special reserved words which convey a special meaning to the compiler/Interpreter. Each keyword have a special meaning and a specific operation. These keywords can't be used as variable.\n",
        "\n",
        "4. Can keywords be used as variable names?\n",
        "\n",
        "Ans: No, keywords can't be used as variable names.\n",
        "\n",
        "5. What is Mutability in Python?\n",
        "\n",
        "Ans. Objects that can be changeable or modified in Python are called Mutable objects and this manipulation process is called mutability.\n",
        "Ex- Lists and dictionaries are mutable objects.\n",
        "\n",
        "6. Why are lists mutable but tuples are immutable?\n",
        "\n",
        "Ans.Lists are mutable because their contents can be changed or modified, whereas tuples are immutable because their contents cannot be changed or modified.\n",
        "\n",
        "7. What is the difference between \"(==)\" and \"is\" operators in Python?\n",
        "\n",
        "Ans: The main difference between == and is operators in Python is that, == is a comparison operator which is used to compare the equality of objects, whereas \"is\" compares the identity of objects, it compares the location of two objects/variables.\n",
        "\n",
        "8. What are logical operators in Python?\n",
        "\n",
        "Logical Operators also called as Boolean operators, evaluate multiple conditions to determine the truth value of an expression. The three logical operators are \"and\", \"Or\" and \"Not\"\n",
        "\n",
        "9. What is type casting in Python?\n",
        "\n",
        "Ans: Type Casting also called as type conversion, is the process of changing one data type to another data type in Python.\n",
        "Python provides built in functions for type casting. such as int(), float(), list(), str(), tuple(), dict() etc\n",
        "\n",
        "10. What is the difference between implicit and explicit type casting?\n",
        "\n",
        "Ans: Implicit type Casting is done by the compiler or code engine automatically, whereas explicit type casting is done by the programmer manually by using type conversion keyword.\n",
        "\n",
        "11. What is the purpose of conditional statements in Python?\n",
        "\n",
        "Ans: Conditional statements are very crucial part of programming in python, they help us to make decisions based on the values of variables or the result of comparisons. if, elif, or else are the three statements used to make decisions.\n",
        "\n",
        "\n",
        "12. How does the elif statement work?\n",
        "\n",
        "Ans: Elif statement is used when series of statements needs to be check.\n",
        "If can be used to check one statement whereas elif is used to check another condition or series of condition.\n",
        "Elif works when if statement isn't true\n",
        "\n",
        "13. What is the difference between for and while loops?\n",
        "\n",
        "Ans: *The for loop is used for definite loops when the number of iterations is known, this is preferable when we know exactly how many times the loop will be repeated, whereas the while loop is used when the number of iterations is not known and the while loop will continue to run infinite number of times until the condition is met.\n",
        "\n",
        "\n",
        "14. Describe a scenario where a while loop is more suitable than a for loop\n",
        "\n",
        "Ans: Where number of iterations are unknown while is suitable than a for loop\n"
      ],
      "metadata": {
        "id": "2IADzCTKwZIA"
      }
    },
    {
      "cell_type": "markdown",
      "source": [],
      "metadata": {
        "id": "C872UfsaJ1xI"
      }
    },
    {
      "cell_type": "code",
      "source": [],
      "metadata": {
        "id": "OhlaLRc0J4a_"
      },
      "execution_count": null,
      "outputs": []
    },
    {
      "cell_type": "code",
      "source": [
        "# 1 Write a Python Program to print \"Hello World\"\n",
        "print(\"Hello World\")"
      ],
      "metadata": {
        "colab": {
          "base_uri": "https://localhost:8080/"
        },
        "id": "tk0BHaPeJcX0",
        "outputId": "e4c8377a-18f6-46ec-a1f3-a8872137aab7"
      },
      "execution_count": null,
      "outputs": [
        {
          "output_type": "stream",
          "name": "stdout",
          "text": [
            "Hello World\n"
          ]
        }
      ]
    },
    {
      "cell_type": "code",
      "source": [
        "# 2 Write a Python program that displays your name and age\n",
        "name = \"My name is Asha\"\n",
        "age = \"i am 43 years old\"\n",
        "print((name),(age))\n"
      ],
      "metadata": {
        "colab": {
          "base_uri": "https://localhost:8080/"
        },
        "id": "JmVyVr64Lgkc",
        "outputId": "f3a5d77a-4040-4fb7-99f1-300a9ac9990a"
      },
      "execution_count": null,
      "outputs": [
        {
          "output_type": "stream",
          "name": "stdout",
          "text": [
            "My name is Asha i am 43 years old\n"
          ]
        }
      ]
    },
    {
      "cell_type": "code",
      "source": [
        "# 3 Write code to print all the pre-defined keywords in Python using the keyword library\n",
        "import keyword\n",
        "print(keyword.kwlist)\n",
        "\n",
        "\n"
      ],
      "metadata": {
        "colab": {
          "base_uri": "https://localhost:8080/"
        },
        "id": "Om_CNyAz4DKl",
        "outputId": "f8270fc3-2014-4576-8333-339277a90d1a"
      },
      "execution_count": null,
      "outputs": [
        {
          "output_type": "stream",
          "name": "stdout",
          "text": [
            "['False', 'None', 'True', 'and', 'as', 'assert', 'async', 'await', 'break', 'class', 'continue', 'def', 'del', 'elif', 'else', 'except', 'finally', 'for', 'from', 'global', 'if', 'import', 'in', 'is', 'lambda', 'nonlocal', 'not', 'or', 'pass', 'raise', 'return', 'try', 'while', 'with', 'yield']\n"
          ]
        }
      ]
    },
    {
      "cell_type": "code",
      "source": [
        "# 4 Write a program that checks if a given word is a Python keyword\n",
        "import keyword\n",
        "J = \"await\"\n",
        "if keyword.iskeyword(J):\n",
        "  print(f\"(J) is a keyword\")\n",
        "else:\n",
        "  print(f\"(J) is not a keyword\")\n",
        "\n",
        "\n"
      ],
      "metadata": {
        "colab": {
          "base_uri": "https://localhost:8080/"
        },
        "id": "3EjJKiBpODJO",
        "outputId": "5763a6cf-b97e-4c0f-f8f6-34ed9c65c6db"
      },
      "execution_count": null,
      "outputs": [
        {
          "output_type": "stream",
          "name": "stdout",
          "text": [
            "(J) is a keyword\n"
          ]
        }
      ]
    },
    {
      "cell_type": "code",
      "source": [
        "# 5 Create a list and tuple in Python, and demonstrate how attempting to change an element works differently for each.\n",
        "\n",
        "list_cont = [2, 4, 5.6, \"asha\" \"(2+5k)\"]\n",
        "print(list_cont)\n",
        "tuple_cont = (2, 4, 5.6, \"asha\" \"(2+5k)\")\n",
        "print(tuple_cont)\n"
      ],
      "metadata": {
        "colab": {
          "base_uri": "https://localhost:8080/"
        },
        "id": "Lg3K3c8ES02e",
        "outputId": "6ed3abf0-8979-4fdb-c65e-8a6d92f4bbcf"
      },
      "execution_count": null,
      "outputs": [
        {
          "output_type": "stream",
          "name": "stdout",
          "text": [
            "[2, 4, 5.6, 'asha(2+5k)']\n",
            "(2, 4, 5.6, 'asha(2+5k)')\n"
          ]
        }
      ]
    },
    {
      "cell_type": "code",
      "source": [
        "list_cont = [2, 4, 5.6, \"asha\", \"(2+5k)\"]\n",
        "list_cont[3] = \"Asha\"\n",
        "print(list_cont)\n"
      ],
      "metadata": {
        "colab": {
          "base_uri": "https://localhost:8080/"
        },
        "id": "vLxFx5xLWMCZ",
        "outputId": "0f53514c-fbaf-4dcb-95a7-d2faab2d8b4a"
      },
      "execution_count": null,
      "outputs": [
        {
          "output_type": "stream",
          "name": "stdout",
          "text": [
            "[2, 4, 5.6, 'Asha', '(2+5k)']\n"
          ]
        }
      ]
    },
    {
      "cell_type": "code",
      "source": [
        "tuple_cont = (2, 4, 5.6, \"asha\", \"(2+5k)\")\n",
        "tuple_cont[3]\n",
        "tuple_cont[3] = \"Asha\"\n",
        "# In below solution it is showing error reason being that tuple object does not support item assignment\n",
        "\n"
      ],
      "metadata": {
        "colab": {
          "base_uri": "https://localhost:8080/",
          "height": 211
        },
        "id": "ysgncOg9YpZS",
        "outputId": "07c1c628-1d96-40b5-b5b7-eebd03156175"
      },
      "execution_count": null,
      "outputs": [
        {
          "output_type": "error",
          "ename": "TypeError",
          "evalue": "'tuple' object does not support item assignment",
          "traceback": [
            "\u001b[0;31m---------------------------------------------------------------------------\u001b[0m",
            "\u001b[0;31mTypeError\u001b[0m                                 Traceback (most recent call last)",
            "\u001b[0;32m<ipython-input-12-8cb0857b295e>\u001b[0m in \u001b[0;36m<cell line: 3>\u001b[0;34m()\u001b[0m\n\u001b[1;32m      1\u001b[0m \u001b[0mtuple_cont\u001b[0m \u001b[0;34m=\u001b[0m \u001b[0;34m(\u001b[0m\u001b[0;36m2\u001b[0m\u001b[0;34m,\u001b[0m \u001b[0;36m4\u001b[0m\u001b[0;34m,\u001b[0m \u001b[0;36m5.6\u001b[0m\u001b[0;34m,\u001b[0m \u001b[0;34m\"asha\"\u001b[0m\u001b[0;34m,\u001b[0m \u001b[0;34m\"(2+5k)\"\u001b[0m\u001b[0;34m)\u001b[0m\u001b[0;34m\u001b[0m\u001b[0;34m\u001b[0m\u001b[0m\n\u001b[1;32m      2\u001b[0m \u001b[0mtuple_cont\u001b[0m\u001b[0;34m[\u001b[0m\u001b[0;36m3\u001b[0m\u001b[0;34m]\u001b[0m\u001b[0;34m\u001b[0m\u001b[0;34m\u001b[0m\u001b[0m\n\u001b[0;32m----> 3\u001b[0;31m \u001b[0mtuple_cont\u001b[0m\u001b[0;34m[\u001b[0m\u001b[0;36m3\u001b[0m\u001b[0;34m]\u001b[0m \u001b[0;34m=\u001b[0m \u001b[0;34m\"Asha\"\u001b[0m\u001b[0;34m\u001b[0m\u001b[0;34m\u001b[0m\u001b[0m\n\u001b[0m\u001b[1;32m      4\u001b[0m \u001b[0;34m\u001b[0m\u001b[0m\n\u001b[1;32m      5\u001b[0m \u001b[0;34m\u001b[0m\u001b[0m\n",
            "\u001b[0;31mTypeError\u001b[0m: 'tuple' object does not support item assignment"
          ]
        }
      ]
    },
    {
      "cell_type": "code",
      "source": [
        "#  6 Write a function to demonstrate the behaviour of mutable and immutable arguments\n",
        "\n",
        "list_cont = [(\"Aditya\",), 4.9, \"(3+7l)\", 9, 46 ]\n",
        "(list_cont[1])= 5\n",
        "print(list_cont)\n",
        "#list is mutable"
      ],
      "metadata": {
        "id": "fwuIVsvBYpp0",
        "colab": {
          "base_uri": "https://localhost:8080/"
        },
        "outputId": "9631a953-5313-4467-da99-c2d1c81fed3b"
      },
      "execution_count": null,
      "outputs": [
        {
          "output_type": "stream",
          "name": "stdout",
          "text": [
            "[('Aditya',), 5, '(3+7l)', 9, 46]\n"
          ]
        }
      ]
    },
    {
      "cell_type": "code",
      "source": [
        "tuple_cont = ( \"Aditya\", 4.9, \"(3+7l)\", 9, 46)\n",
        "tuple_cont[1] = 5\n",
        "print(tuple_cont)\n",
        "#tuple is immutable and hence does not support item assginement"
      ],
      "metadata": {
        "colab": {
          "base_uri": "https://localhost:8080/",
          "height": 176
        },
        "id": "8VBqOHKSbroP",
        "outputId": "b31e653e-f17f-4fa3-bfa7-c5e681703795"
      },
      "execution_count": null,
      "outputs": [
        {
          "output_type": "error",
          "ename": "TypeError",
          "evalue": "'tuple' object does not support item assignment",
          "traceback": [
            "\u001b[0;31m---------------------------------------------------------------------------\u001b[0m",
            "\u001b[0;31mTypeError\u001b[0m                                 Traceback (most recent call last)",
            "\u001b[0;32m<ipython-input-26-18e419c2bc37>\u001b[0m in \u001b[0;36m<cell line: 2>\u001b[0;34m()\u001b[0m\n\u001b[1;32m      1\u001b[0m \u001b[0mtuple_cont\u001b[0m \u001b[0;34m=\u001b[0m \u001b[0;34m(\u001b[0m \u001b[0;34m\"Aditya\"\u001b[0m\u001b[0;34m,\u001b[0m \u001b[0;36m4.9\u001b[0m\u001b[0;34m,\u001b[0m \u001b[0;34m\"(3+7l)\"\u001b[0m\u001b[0;34m,\u001b[0m \u001b[0;36m9\u001b[0m\u001b[0;34m,\u001b[0m \u001b[0;36m46\u001b[0m\u001b[0;34m)\u001b[0m\u001b[0;34m\u001b[0m\u001b[0;34m\u001b[0m\u001b[0m\n\u001b[0;32m----> 2\u001b[0;31m \u001b[0mtuple_cont\u001b[0m\u001b[0;34m[\u001b[0m\u001b[0;36m1\u001b[0m\u001b[0;34m]\u001b[0m \u001b[0;34m=\u001b[0m \u001b[0;36m5\u001b[0m\u001b[0;34m\u001b[0m\u001b[0;34m\u001b[0m\u001b[0m\n\u001b[0m\u001b[1;32m      3\u001b[0m \u001b[0mprint\u001b[0m\u001b[0;34m(\u001b[0m\u001b[0mtuple_cont\u001b[0m\u001b[0;34m)\u001b[0m\u001b[0;34m\u001b[0m\u001b[0;34m\u001b[0m\u001b[0m\n",
            "\u001b[0;31mTypeError\u001b[0m: 'tuple' object does not support item assignment"
          ]
        }
      ]
    },
    {
      "cell_type": "code",
      "source": [
        "str1 = \"Hello\"\n",
        "print(str1)\n",
        "str1[3] = 'm'\n",
        "string is immutable and hence does not support item assignment"
      ],
      "metadata": {
        "colab": {
          "base_uri": "https://localhost:8080/",
          "height": 193
        },
        "id": "H_gFI7jTdzYn",
        "outputId": "709f234a-326c-47ce-b926-5bc368f9d7b0"
      },
      "execution_count": null,
      "outputs": [
        {
          "output_type": "stream",
          "name": "stdout",
          "text": [
            "Hello\n"
          ]
        },
        {
          "output_type": "error",
          "ename": "TypeError",
          "evalue": "'str' object does not support item assignment",
          "traceback": [
            "\u001b[0;31m---------------------------------------------------------------------------\u001b[0m",
            "\u001b[0;31mTypeError\u001b[0m                                 Traceback (most recent call last)",
            "\u001b[0;32m<ipython-input-29-cf940649ff2a>\u001b[0m in \u001b[0;36m<cell line: 3>\u001b[0;34m()\u001b[0m\n\u001b[1;32m      1\u001b[0m \u001b[0mstr1\u001b[0m \u001b[0;34m=\u001b[0m \u001b[0;34m\"Hello\"\u001b[0m\u001b[0;34m\u001b[0m\u001b[0;34m\u001b[0m\u001b[0m\n\u001b[1;32m      2\u001b[0m \u001b[0mprint\u001b[0m\u001b[0;34m(\u001b[0m\u001b[0mstr1\u001b[0m\u001b[0;34m)\u001b[0m\u001b[0;34m\u001b[0m\u001b[0;34m\u001b[0m\u001b[0m\n\u001b[0;32m----> 3\u001b[0;31m \u001b[0mstr1\u001b[0m\u001b[0;34m[\u001b[0m\u001b[0;36m3\u001b[0m\u001b[0;34m]\u001b[0m \u001b[0;34m=\u001b[0m \u001b[0;34m'm'\u001b[0m\u001b[0;34m\u001b[0m\u001b[0;34m\u001b[0m\u001b[0m\n\u001b[0m",
            "\u001b[0;31mTypeError\u001b[0m: 'str' object does not support item assignment"
          ]
        }
      ]
    },
    {
      "cell_type": "markdown",
      "source": [
        "+"
      ],
      "metadata": {
        "id": "cn1ggUhE0IvG"
      }
    },
    {
      "cell_type": "code",
      "source": [
        "# 7,  6 th question is repeated"
      ],
      "metadata": {
        "id": "onDqK5mJeZFj"
      },
      "execution_count": null,
      "outputs": []
    },
    {
      "cell_type": "markdown",
      "source": [],
      "metadata": {
        "id": "A3l2KYklyiyI"
      }
    },
    {
      "cell_type": "code",
      "source": [
        "# 8 Write a program to demonstrate the use of logical operators.\n",
        "a = 10\n",
        "a < 20 and a > 8\n",
        "  # and operator returns \"True\" if both operands are true and false if any one operand is not correct"
      ],
      "metadata": {
        "colab": {
          "base_uri": "https://localhost:8080/"
        },
        "id": "KnUMI8WbeqRC",
        "outputId": "7c57c20d-8918-4506-ba77-96446981560f"
      },
      "execution_count": null,
      "outputs": [
        {
          "output_type": "execute_result",
          "data": {
            "text/plain": [
              "True"
            ]
          },
          "metadata": {},
          "execution_count": 35
        }
      ]
    },
    {
      "cell_type": "code",
      "source": [
        "a = 10\n",
        "a < 20 or a > 30\n",
        "# or operator returns \"True\" if any one operands are true and false if both operands are false\n"
      ],
      "metadata": {
        "colab": {
          "base_uri": "https://localhost:8080/"
        },
        "id": "oiOnvTmBejXD",
        "outputId": "f2cc3997-be63-414c-ded9-730a2d65d97b"
      },
      "execution_count": null,
      "outputs": [
        {
          "output_type": "execute_result",
          "data": {
            "text/plain": [
              "True"
            ]
          },
          "metadata": {},
          "execution_count": 36
        }
      ]
    },
    {
      "cell_type": "code",
      "source": [
        "# 9 Write a python program to convert user input from string to integer, float, and boolean types\n",
        "input1 = input(\"enter your age: \")\n",
        "input1 = int(input(\"enter your age:  \"))\n",
        "input1 = float(input(\"enter your age:  \"))\n",
        "input1 = bool(input(\"enter your age:  \"))"
      ],
      "metadata": {
        "colab": {
          "base_uri": "https://localhost:8080/"
        },
        "id": "MSnSCZiPhOQm",
        "outputId": "927c042d-8f8e-438c-b23b-8aae8e5e8ee7"
      },
      "execution_count": null,
      "outputs": [
        {
          "name": "stdout",
          "output_type": "stream",
          "text": [
            "enter your age: 34\n",
            "enter your age:  34\n",
            "enter your age:  34\n",
            "enter your age:  34\n"
          ]
        }
      ]
    },
    {
      "cell_type": "code",
      "source": [
        "# 10 Write code to demonstrate type casting with list elemets.\n",
        "list = [20, 30, \"(a+2g)\", 5.8, \"Anvita\"]\n",
        "print(list)\n",
        "list = [str(20), str(30), str(\"(a+2g)\"), str(5.8), str(\"Anvita\")]\n",
        "print(list)\n",
        "list = [int(20), int(30), (\"(a+2g)\"), int(5.8), (\"Anvita\")]\n",
        "print(list)\n",
        "list = [float(20), float(30), (\"(a+2g)\"), float(5.8), (\"Anvita\")]\n",
        "print(list)"
      ],
      "metadata": {
        "colab": {
          "base_uri": "https://localhost:8080/"
        },
        "id": "mU6_3WTrmW3P",
        "outputId": "3405817b-50a7-47d1-d582-c50daecb2b00"
      },
      "execution_count": null,
      "outputs": [
        {
          "output_type": "stream",
          "name": "stdout",
          "text": [
            "[20, 30, '(a+2g)', 5.8, 'Anvita']\n",
            "['20', '30', '(a+2g)', '5.8', 'Anvita']\n",
            "[20, 30, '(a+2g)', 5, 'Anvita']\n",
            "[20.0, 30.0, '(a+2g)', 5.8, 'Anvita']\n"
          ]
        }
      ]
    },
    {
      "cell_type": "code",
      "source": [
        "# 11  write a program that checks if a number is positive, negative, or zero\n",
        "a = 6\n",
        "if a > 0:\n",
        "  print(\"The number is positive\")\n",
        "elif a < 0:\n",
        "  print(\"The number is negative\")\n",
        "else:\n",
        "  print(\"zero\")"
      ],
      "metadata": {
        "colab": {
          "base_uri": "https://localhost:8080/"
        },
        "id": "VQ2gjleet5Ky",
        "outputId": "e219940c-f593-46a3-f353-d3cc05cf32b6"
      },
      "execution_count": null,
      "outputs": [
        {
          "output_type": "stream",
          "name": "stdout",
          "text": [
            "The number is positive\n"
          ]
        }
      ]
    },
    {
      "cell_type": "code",
      "source": [
        "# 12 Write a for loop to print numbers from 1 to 10\n",
        "for i in range(1, 11):\n",
        "  print(i)"
      ],
      "metadata": {
        "colab": {
          "base_uri": "https://localhost:8080/"
        },
        "id": "BnLKD93Buuvy",
        "outputId": "15ae7306-4e8b-4c1d-8a35-60e31f149bea"
      },
      "execution_count": null,
      "outputs": [
        {
          "output_type": "stream",
          "name": "stdout",
          "text": [
            "1\n",
            "2\n",
            "3\n",
            "4\n",
            "5\n",
            "6\n",
            "7\n",
            "8\n",
            "9\n",
            "10\n"
          ]
        }
      ]
    },
    {
      "cell_type": "code",
      "source": [
        "# 13 Write a python program to find the sum of all even numbers between 1 and 50\n",
        "sum = 0\n",
        "for i in range(1, 51):\n",
        "  if i % 2 == 0:\n",
        "    sum = sum + i\n",
        "print(sum)"
      ],
      "metadata": {
        "colab": {
          "base_uri": "https://localhost:8080/"
        },
        "id": "0tmqcfrovEd0",
        "outputId": "7bd12822-6670-47bb-9c6c-a2fc751ee5e0"
      },
      "execution_count": null,
      "outputs": [
        {
          "output_type": "stream",
          "name": "stdout",
          "text": [
            "650\n"
          ]
        }
      ]
    },
    {
      "cell_type": "code",
      "source": [
        "#14 Write a program to reverse a string using a while loop\n",
        "str1 = (\"Aditya\")\n",
        "ind = 0\n",
        "while ind < len(str1):\n",
        "  print(str1[len(str1) - ind - 1])\n",
        "  ind+=1\n",
        "\n"
      ],
      "metadata": {
        "colab": {
          "base_uri": "https://localhost:8080/"
        },
        "id": "3ZXhZzZpW4im",
        "outputId": "a979d6df-44bb-4afe-a616-6f5b557f0f54"
      },
      "execution_count": 17,
      "outputs": [
        {
          "output_type": "stream",
          "name": "stdout",
          "text": [
            "a\n",
            "y\n",
            "t\n",
            "i\n",
            "d\n",
            "A\n"
          ]
        }
      ]
    },
    {
      "cell_type": "code",
      "source": [
        "#1 Write a python program to calculate the factorial of a number provided by the user using a while loop.\n",
        "n = int(input(\"enter a number: \"))\n",
        "fact = 1\n",
        "while n > 0:\n",
        "  fact = fact * n\n",
        "  n = n - 1\n",
        "print(fact)"
      ],
      "metadata": {
        "id": "WgBFjO2mworu",
        "colab": {
          "base_uri": "https://localhost:8080/"
        },
        "outputId": "d7a29761-ab23-4897-f637-2777cc99efa9"
      },
      "execution_count": 18,
      "outputs": [
        {
          "output_type": "stream",
          "name": "stdout",
          "text": [
            "enter a number: 5\n",
            "120\n"
          ]
        }
      ]
    }
  ]
}